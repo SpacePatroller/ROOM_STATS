{
 "cells": [
  {
   "cell_type": "code",
   "execution_count": 23,
   "metadata": {},
   "outputs": [],
   "source": [
    "import pandas as pd\n",
    "import numpy as np\n",
    "import matplotlib.pyplot as plt"
   ]
  },
  {
   "cell_type": "code",
   "execution_count": 24,
   "metadata": {},
   "outputs": [
    {
     "data": {
      "text/html": [
       "<div>\n",
       "<style scoped>\n",
       "    .dataframe tbody tr th:only-of-type {\n",
       "        vertical-align: middle;\n",
       "    }\n",
       "\n",
       "    .dataframe tbody tr th {\n",
       "        vertical-align: top;\n",
       "    }\n",
       "\n",
       "    .dataframe thead th {\n",
       "        text-align: right;\n",
       "    }\n",
       "</style>\n",
       "<table border=\"1\" class=\"dataframe\">\n",
       "  <thead>\n",
       "    <tr style=\"text-align: right;\">\n",
       "      <th></th>\n",
       "      <th>Room</th>\n",
       "      <th>Month</th>\n",
       "      <th>RM ARR</th>\n",
       "      <th>RM NIGHTS</th>\n",
       "      <th>ROOM REV</th>\n",
       "      <th>ADR</th>\n",
       "      <th>Unnamed: 6</th>\n",
       "      <th>Unnamed: 7</th>\n",
       "      <th>Unnamed: 8</th>\n",
       "      <th>Unnamed: 9</th>\n",
       "    </tr>\n",
       "  </thead>\n",
       "  <tbody>\n",
       "    <tr>\n",
       "      <th>0</th>\n",
       "      <td>201</td>\n",
       "      <td>January</td>\n",
       "      <td>6</td>\n",
       "      <td>12</td>\n",
       "      <td>1,747.50</td>\n",
       "      <td>145.63</td>\n",
       "      <td>NaN</td>\n",
       "      <td>NaN</td>\n",
       "      <td>NaN</td>\n",
       "      <td>NaN</td>\n",
       "    </tr>\n",
       "    <tr>\n",
       "      <th>1</th>\n",
       "      <td>201</td>\n",
       "      <td>February</td>\n",
       "      <td>8</td>\n",
       "      <td>10</td>\n",
       "      <td>1,459.84</td>\n",
       "      <td>145.98</td>\n",
       "      <td>NaN</td>\n",
       "      <td>NaN</td>\n",
       "      <td>NaN</td>\n",
       "      <td>NaN</td>\n",
       "    </tr>\n",
       "    <tr>\n",
       "      <th>2</th>\n",
       "      <td>201</td>\n",
       "      <td>March</td>\n",
       "      <td>14</td>\n",
       "      <td>20</td>\n",
       "      <td>2,874.84</td>\n",
       "      <td>143.74</td>\n",
       "      <td>NaN</td>\n",
       "      <td>NaN</td>\n",
       "      <td>NaN</td>\n",
       "      <td>NaN</td>\n",
       "    </tr>\n",
       "    <tr>\n",
       "      <th>3</th>\n",
       "      <td>201</td>\n",
       "      <td>April</td>\n",
       "      <td>10</td>\n",
       "      <td>19</td>\n",
       "      <td>3,225.00</td>\n",
       "      <td>169.74</td>\n",
       "      <td>NaN</td>\n",
       "      <td>NaN</td>\n",
       "      <td>NaN</td>\n",
       "      <td>NaN</td>\n",
       "    </tr>\n",
       "    <tr>\n",
       "      <th>4</th>\n",
       "      <td>201</td>\n",
       "      <td>May</td>\n",
       "      <td>9</td>\n",
       "      <td>19</td>\n",
       "      <td>3,023.90</td>\n",
       "      <td>159.15</td>\n",
       "      <td>NaN</td>\n",
       "      <td>NaN</td>\n",
       "      <td>NaN</td>\n",
       "      <td>NaN</td>\n",
       "    </tr>\n",
       "  </tbody>\n",
       "</table>\n",
       "</div>"
      ],
      "text/plain": [
       "   Room     Month  RM ARR  RM NIGHTS  ROOM REV     ADR  Unnamed: 6  \\\n",
       "0   201   January       6         12  1,747.50  145.63         NaN   \n",
       "1   201  February       8         10  1,459.84  145.98         NaN   \n",
       "2   201     March      14         20  2,874.84  143.74         NaN   \n",
       "3   201     April      10         19  3,225.00  169.74         NaN   \n",
       "4   201       May       9         19  3,023.90  159.15         NaN   \n",
       "\n",
       "   Unnamed: 7 Unnamed: 8  Unnamed: 9  \n",
       "0         NaN        NaN         NaN  \n",
       "1         NaN        NaN         NaN  \n",
       "2         NaN        NaN         NaN  \n",
       "3         NaN        NaN         NaN  \n",
       "4         NaN        NaN         NaN  "
      ]
     },
     "execution_count": 24,
     "metadata": {},
     "output_type": "execute_result"
    }
   ],
   "source": [
    "df = pd.read_csv('room_stats_2019.csv')\n",
    "df.head()"
   ]
  },
  {
   "cell_type": "code",
   "execution_count": 3,
   "metadata": {},
   "outputs": [
    {
     "data": {
      "text/plain": [
       "Room            int64\n",
       "Month          object\n",
       "RM ARR          int64\n",
       "RM NIGHTS       int64\n",
       "ROOM REV       object\n",
       "ADR           float64\n",
       "Unnamed: 6    float64\n",
       "Unnamed: 7    float64\n",
       "Unnamed: 8     object\n",
       "Unnamed: 9    float64\n",
       "dtype: object"
      ]
     },
     "execution_count": 3,
     "metadata": {},
     "output_type": "execute_result"
    }
   ],
   "source": [
    "df.dtypes"
   ]
  },
  {
   "cell_type": "code",
   "execution_count": 4,
   "metadata": {},
   "outputs": [],
   "source": [
    "df.drop(columns=['Unnamed: 6','Unnamed: 7','Unnamed: 8','Unnamed: 9'], inplace=True)"
   ]
  },
  {
   "cell_type": "code",
   "execution_count": 5,
   "metadata": {},
   "outputs": [
    {
     "data": {
      "text/html": [
       "<div>\n",
       "<style scoped>\n",
       "    .dataframe tbody tr th:only-of-type {\n",
       "        vertical-align: middle;\n",
       "    }\n",
       "\n",
       "    .dataframe tbody tr th {\n",
       "        vertical-align: top;\n",
       "    }\n",
       "\n",
       "    .dataframe thead th {\n",
       "        text-align: right;\n",
       "    }\n",
       "</style>\n",
       "<table border=\"1\" class=\"dataframe\">\n",
       "  <thead>\n",
       "    <tr style=\"text-align: right;\">\n",
       "      <th></th>\n",
       "      <th>Room</th>\n",
       "      <th>Month</th>\n",
       "      <th>RM ARR</th>\n",
       "      <th>RM NIGHTS</th>\n",
       "      <th>ROOM REV</th>\n",
       "      <th>ADR</th>\n",
       "    </tr>\n",
       "  </thead>\n",
       "  <tbody>\n",
       "    <tr>\n",
       "      <th>0</th>\n",
       "      <td>201</td>\n",
       "      <td>January</td>\n",
       "      <td>6</td>\n",
       "      <td>12</td>\n",
       "      <td>1747.50</td>\n",
       "      <td>145.63</td>\n",
       "    </tr>\n",
       "    <tr>\n",
       "      <th>1</th>\n",
       "      <td>201</td>\n",
       "      <td>February</td>\n",
       "      <td>8</td>\n",
       "      <td>10</td>\n",
       "      <td>1459.84</td>\n",
       "      <td>145.98</td>\n",
       "    </tr>\n",
       "    <tr>\n",
       "      <th>2</th>\n",
       "      <td>201</td>\n",
       "      <td>March</td>\n",
       "      <td>14</td>\n",
       "      <td>20</td>\n",
       "      <td>2874.84</td>\n",
       "      <td>143.74</td>\n",
       "    </tr>\n",
       "    <tr>\n",
       "      <th>3</th>\n",
       "      <td>201</td>\n",
       "      <td>April</td>\n",
       "      <td>10</td>\n",
       "      <td>19</td>\n",
       "      <td>3225.00</td>\n",
       "      <td>169.74</td>\n",
       "    </tr>\n",
       "    <tr>\n",
       "      <th>4</th>\n",
       "      <td>201</td>\n",
       "      <td>May</td>\n",
       "      <td>9</td>\n",
       "      <td>19</td>\n",
       "      <td>3023.90</td>\n",
       "      <td>159.15</td>\n",
       "    </tr>\n",
       "  </tbody>\n",
       "</table>\n",
       "</div>"
      ],
      "text/plain": [
       "   Room     Month  RM ARR  RM NIGHTS  ROOM REV     ADR\n",
       "0   201   January       6         12   1747.50  145.63\n",
       "1   201  February       8         10   1459.84  145.98\n",
       "2   201     March      14         20   2874.84  143.74\n",
       "3   201     April      10         19   3225.00  169.74\n",
       "4   201       May       9         19   3023.90  159.15"
      ]
     },
     "execution_count": 5,
     "metadata": {},
     "output_type": "execute_result"
    }
   ],
   "source": [
    "df['ROOM REV'] = df['ROOM REV'].map(lambda x:x.replace(',',''))\n",
    "\n",
    "df['ROOM REV'] = df['ROOM REV'].astype(float)\n",
    "df.head()"
   ]
  },
  {
   "cell_type": "code",
   "execution_count": 6,
   "metadata": {},
   "outputs": [
    {
     "data": {
      "text/html": [
       "<div>\n",
       "<style scoped>\n",
       "    .dataframe tbody tr th:only-of-type {\n",
       "        vertical-align: middle;\n",
       "    }\n",
       "\n",
       "    .dataframe tbody tr th {\n",
       "        vertical-align: top;\n",
       "    }\n",
       "\n",
       "    .dataframe thead th {\n",
       "        text-align: right;\n",
       "    }\n",
       "</style>\n",
       "<table border=\"1\" class=\"dataframe\">\n",
       "  <thead>\n",
       "    <tr style=\"text-align: right;\">\n",
       "      <th></th>\n",
       "      <th>ADR</th>\n",
       "    </tr>\n",
       "    <tr>\n",
       "      <th>Room</th>\n",
       "      <th></th>\n",
       "    </tr>\n",
       "  </thead>\n",
       "  <tbody>\n",
       "    <tr>\n",
       "      <th>201</th>\n",
       "      <td>156.11</td>\n",
       "    </tr>\n",
       "    <tr>\n",
       "      <th>202</th>\n",
       "      <td>176.14</td>\n",
       "    </tr>\n",
       "    <tr>\n",
       "      <th>203</th>\n",
       "      <td>146.14</td>\n",
       "    </tr>\n",
       "    <tr>\n",
       "      <th>204</th>\n",
       "      <td>180.48</td>\n",
       "    </tr>\n",
       "    <tr>\n",
       "      <th>205</th>\n",
       "      <td>152.64</td>\n",
       "    </tr>\n",
       "  </tbody>\n",
       "</table>\n",
       "</div>"
      ],
      "text/plain": [
       "         ADR\n",
       "Room        \n",
       "201   156.11\n",
       "202   176.14\n",
       "203   146.14\n",
       "204   180.48\n",
       "205   152.64"
      ]
     },
     "execution_count": 6,
     "metadata": {},
     "output_type": "execute_result"
    }
   ],
   "source": [
    "# group by room and calc avg adr \n",
    "room_adr_avg = pd.DataFrame(df.groupby(['Room'])['ADR'].mean())\n",
    "room_adr_avg['ADR'] = room_adr_avg['ADR'].map('{:,.2f}'.format)\n",
    "\n",
    "room_adr_avg.head()"
   ]
  },
  {
   "cell_type": "code",
   "execution_count": 7,
   "metadata": {},
   "outputs": [
    {
     "data": {
      "text/html": [
       "<div>\n",
       "<style scoped>\n",
       "    .dataframe tbody tr th:only-of-type {\n",
       "        vertical-align: middle;\n",
       "    }\n",
       "\n",
       "    .dataframe tbody tr th {\n",
       "        vertical-align: top;\n",
       "    }\n",
       "\n",
       "    .dataframe thead th {\n",
       "        text-align: right;\n",
       "    }\n",
       "</style>\n",
       "<table border=\"1\" class=\"dataframe\">\n",
       "  <thead>\n",
       "    <tr style=\"text-align: right;\">\n",
       "      <th></th>\n",
       "      <th>ROOM REV</th>\n",
       "    </tr>\n",
       "    <tr>\n",
       "      <th>Room</th>\n",
       "      <th></th>\n",
       "    </tr>\n",
       "  </thead>\n",
       "  <tbody>\n",
       "    <tr>\n",
       "      <th>201</th>\n",
       "      <td>36943.07</td>\n",
       "    </tr>\n",
       "    <tr>\n",
       "      <th>202</th>\n",
       "      <td>32593.18</td>\n",
       "    </tr>\n",
       "    <tr>\n",
       "      <th>203</th>\n",
       "      <td>34857.26</td>\n",
       "    </tr>\n",
       "    <tr>\n",
       "      <th>204</th>\n",
       "      <td>34969.95</td>\n",
       "    </tr>\n",
       "    <tr>\n",
       "      <th>205</th>\n",
       "      <td>33962.31</td>\n",
       "    </tr>\n",
       "  </tbody>\n",
       "</table>\n",
       "</div>"
      ],
      "text/plain": [
       "      ROOM REV\n",
       "Room          \n",
       "201   36943.07\n",
       "202   32593.18\n",
       "203   34857.26\n",
       "204   34969.95\n",
       "205   33962.31"
      ]
     },
     "execution_count": 7,
     "metadata": {},
     "output_type": "execute_result"
    }
   ],
   "source": [
    "#group by room and total rev\n",
    "room_rev_sum = pd.DataFrame(df.groupby(['Room'])['ROOM REV'].sum())\n",
    "room_rev_sum.head()"
   ]
  },
  {
   "cell_type": "code",
   "execution_count": 15,
   "metadata": {},
   "outputs": [],
   "source": [
    "# PLOT HISTOGRAM IN ORDER TO ASSIST IN COLOR BINNING"
   ]
  },
  {
   "cell_type": "code",
   "execution_count": 21,
   "metadata": {},
   "outputs": [
    {
     "data": {
      "image/png": "[encoded data removed]",
      "text/plain": [
       "<Figure size 432x288 with 1 Axes>"
      ]
     },
     "metadata": {
      "needs_background": "light"
     },
     "output_type": "display_data"
    }
   ],
   "source": [
    "n, bins, patches = plt.hist(x=room_rev_sum['ROOM REV'], bins=5, color='#0504aa',\n",
    "                            alpha=0.7, rwidth=0.95)\n",
    "plt.grid(axis='y', alpha=0.75)"
   ]
  },
  {
   "cell_type": "code",
   "execution_count": 8,
   "metadata": {},
   "outputs": [
    {
     "data": {
      "text/html": [
       "<div>\n",
       "<style scoped>\n",
       "    .dataframe tbody tr th:only-of-type {\n",
       "        vertical-align: middle;\n",
       "    }\n",
       "\n",
       "    .dataframe tbody tr th {\n",
       "        vertical-align: top;\n",
       "    }\n",
       "\n",
       "    .dataframe thead th {\n",
       "        text-align: right;\n",
       "    }\n",
       "</style>\n",
       "<table border=\"1\" class=\"dataframe\">\n",
       "  <thead>\n",
       "    <tr style=\"text-align: right;\">\n",
       "      <th></th>\n",
       "      <th>RM NIGHTS</th>\n",
       "    </tr>\n",
       "    <tr>\n",
       "      <th>Room</th>\n",
       "      <th></th>\n",
       "    </tr>\n",
       "  </thead>\n",
       "  <tbody>\n",
       "    <tr>\n",
       "      <th>201</th>\n",
       "      <td>236</td>\n",
       "    </tr>\n",
       "    <tr>\n",
       "      <th>202</th>\n",
       "      <td>187</td>\n",
       "    </tr>\n",
       "    <tr>\n",
       "      <th>203</th>\n",
       "      <td>237</td>\n",
       "    </tr>\n",
       "    <tr>\n",
       "      <th>204</th>\n",
       "      <td>193</td>\n",
       "    </tr>\n",
       "    <tr>\n",
       "      <th>205</th>\n",
       "      <td>222</td>\n",
       "    </tr>\n",
       "  </tbody>\n",
       "</table>\n",
       "</div>"
      ],
      "text/plain": [
       "      RM NIGHTS\n",
       "Room           \n",
       "201         236\n",
       "202         187\n",
       "203         237\n",
       "204         193\n",
       "205         222"
      ]
     },
     "execution_count": 8,
     "metadata": {},
     "output_type": "execute_result"
    }
   ],
   "source": [
    "# group by room and total room nights\n",
    "room_night_sum = pd.DataFrame(df.groupby(['Room'])['RM NIGHTS'].sum())\n",
    "room_night_sum.head()"
   ]
  },
  {
   "cell_type": "code",
   "execution_count": 26,
   "metadata": {},
   "outputs": [
    {
     "data": {
      "image/png": "[encoded data removed]",
      "text/plain": [
       "<Figure size 432x288 with 1 Axes>"
      ]
     },
     "metadata": {
      "needs_background": "light"
     },
     "output_type": "display_data"
    }
   ],
   "source": [
    "n, bins, patches = plt.hist(x=room_night_sum['RM NIGHTS'], bins=5, color='#0504aa',\n",
    "                            alpha=0.7, rwidth=0.95)\n",
    "plt.grid(axis='y', alpha=0.75)"
   ]
  },
  {
   "cell_type": "code",
   "execution_count": 9,
   "metadata": {},
   "outputs": [
    {
     "data": {
      "text/html": [
       "<div>\n",
       "<style scoped>\n",
       "    .dataframe tbody tr th:only-of-type {\n",
       "        vertical-align: middle;\n",
       "    }\n",
       "\n",
       "    .dataframe tbody tr th {\n",
       "        vertical-align: top;\n",
       "    }\n",
       "\n",
       "    .dataframe thead th {\n",
       "        text-align: right;\n",
       "    }\n",
       "</style>\n",
       "<table border=\"1\" class=\"dataframe\">\n",
       "  <thead>\n",
       "    <tr style=\"text-align: right;\">\n",
       "      <th></th>\n",
       "      <th>Room</th>\n",
       "      <th>ADR</th>\n",
       "      <th>ROOM REV</th>\n",
       "      <th>RM NIGHTS</th>\n",
       "    </tr>\n",
       "  </thead>\n",
       "  <tbody>\n",
       "    <tr>\n",
       "      <th>0</th>\n",
       "      <td>201</td>\n",
       "      <td>156.11</td>\n",
       "      <td>36943.07</td>\n",
       "      <td>236</td>\n",
       "    </tr>\n",
       "    <tr>\n",
       "      <th>1</th>\n",
       "      <td>202</td>\n",
       "      <td>176.14</td>\n",
       "      <td>32593.18</td>\n",
       "      <td>187</td>\n",
       "    </tr>\n",
       "    <tr>\n",
       "      <th>2</th>\n",
       "      <td>203</td>\n",
       "      <td>146.14</td>\n",
       "      <td>34857.26</td>\n",
       "      <td>237</td>\n",
       "    </tr>\n",
       "    <tr>\n",
       "      <th>3</th>\n",
       "      <td>204</td>\n",
       "      <td>180.48</td>\n",
       "      <td>34969.95</td>\n",
       "      <td>193</td>\n",
       "    </tr>\n",
       "    <tr>\n",
       "      <th>4</th>\n",
       "      <td>205</td>\n",
       "      <td>152.64</td>\n",
       "      <td>33962.31</td>\n",
       "      <td>222</td>\n",
       "    </tr>\n",
       "  </tbody>\n",
       "</table>\n",
       "</div>"
      ],
      "text/plain": [
       "   Room     ADR  ROOM REV  RM NIGHTS\n",
       "0   201  156.11  36943.07        236\n",
       "1   202  176.14  32593.18        187\n",
       "2   203  146.14  34857.26        237\n",
       "3   204  180.48  34969.95        193\n",
       "4   205  152.64  33962.31        222"
      ]
     },
     "execution_count": 9,
     "metadata": {},
     "output_type": "execute_result"
    }
   ],
   "source": [
    "room_data = pd.concat([room_adr_avg, room_rev_sum,room_night_sum], axis=1,)\n",
    "room_data.reset_index(inplace=True)\n",
    "room_data.head()"
   ]
  },
  {
   "cell_type": "code",
   "execution_count": 10,
   "metadata": {},
   "outputs": [
    {
     "data": {
      "text/html": [
       "<div>\n",
       "<style scoped>\n",
       "    .dataframe tbody tr th:only-of-type {\n",
       "        vertical-align: middle;\n",
       "    }\n",
       "\n",
       "    .dataframe tbody tr th {\n",
       "        vertical-align: top;\n",
       "    }\n",
       "\n",
       "    .dataframe thead th {\n",
       "        text-align: right;\n",
       "    }\n",
       "</style>\n",
       "<table border=\"1\" class=\"dataframe\">\n",
       "  <thead>\n",
       "    <tr style=\"text-align: right;\">\n",
       "      <th></th>\n",
       "      <th>Room</th>\n",
       "      <th>ADR</th>\n",
       "      <th>ROOM REV</th>\n",
       "      <th>RM NIGHTS</th>\n",
       "      <th>FLOOR</th>\n",
       "    </tr>\n",
       "  </thead>\n",
       "  <tbody>\n",
       "    <tr>\n",
       "      <th>0</th>\n",
       "      <td>201</td>\n",
       "      <td>156.11</td>\n",
       "      <td>36943.07</td>\n",
       "      <td>236</td>\n",
       "      <td>2</td>\n",
       "    </tr>\n",
       "    <tr>\n",
       "      <th>1</th>\n",
       "      <td>202</td>\n",
       "      <td>176.14</td>\n",
       "      <td>32593.18</td>\n",
       "      <td>187</td>\n",
       "      <td>2</td>\n",
       "    </tr>\n",
       "    <tr>\n",
       "      <th>2</th>\n",
       "      <td>203</td>\n",
       "      <td>146.14</td>\n",
       "      <td>34857.26</td>\n",
       "      <td>237</td>\n",
       "      <td>2</td>\n",
       "    </tr>\n",
       "    <tr>\n",
       "      <th>3</th>\n",
       "      <td>204</td>\n",
       "      <td>180.48</td>\n",
       "      <td>34969.95</td>\n",
       "      <td>193</td>\n",
       "      <td>2</td>\n",
       "    </tr>\n",
       "    <tr>\n",
       "      <th>4</th>\n",
       "      <td>205</td>\n",
       "      <td>152.64</td>\n",
       "      <td>33962.31</td>\n",
       "      <td>222</td>\n",
       "      <td>2</td>\n",
       "    </tr>\n",
       "  </tbody>\n",
       "</table>\n",
       "</div>"
      ],
      "text/plain": [
       "   Room     ADR  ROOM REV  RM NIGHTS FLOOR\n",
       "0   201  156.11  36943.07        236     2\n",
       "1   202  176.14  32593.18        187     2\n",
       "2   203  146.14  34857.26        237     2\n",
       "3   204  180.48  34969.95        193     2\n",
       "4   205  152.64  33962.31        222     2"
      ]
     },
     "execution_count": 10,
     "metadata": {},
     "output_type": "execute_result"
    }
   ],
   "source": [
    "room_data['FLOOR'] = room_data['Room'].astype(str).str[0]\n",
    "room_data.head()"
   ]
  },
  {
   "cell_type": "code",
   "execution_count": 11,
   "metadata": {},
   "outputs": [],
   "source": [
    "import sqlalchemy \n",
    "from sqlalchemy.orm import Session\n",
    "from sqlalchemy.ext.automap import automap_base\n",
    "from sqlalchemy import func , create_engine , inspect , distinct , text"
   ]
  },
  {
   "cell_type": "code",
   "execution_count": 14,
   "metadata": {},
   "outputs": [
    {
     "name": "stdout",
     "output_type": "stream",
     "text": [
      "2019-04-16 12:39:48,724 INFO sqlalchemy.engine.base.Engine SELECT CAST('test plain returns' AS VARCHAR(60)) AS anon_1\n",
      "2019-04-16 12:39:48,724 INFO sqlalchemy.engine.base.Engine ()\n",
      "2019-04-16 12:39:48,724 INFO sqlalchemy.engine.base.Engine SELECT CAST('test unicode returns' AS VARCHAR(60)) AS anon_1\n",
      "2019-04-16 12:39:48,724 INFO sqlalchemy.engine.base.Engine ()\n",
      "2019-04-16 12:39:48,724 INFO sqlalchemy.engine.base.Engine SELECT name FROM sqlite_master WHERE type='table' ORDER BY name\n",
      "2019-04-16 12:39:48,724 INFO sqlalchemy.engine.base.Engine ()\n",
      "2019-04-16 12:39:48,724 INFO sqlalchemy.engine.base.Engine PRAGMA table_info(\"room_stats\")\n",
      "2019-04-16 12:39:48,724 INFO sqlalchemy.engine.base.Engine ()\n",
      "2019-04-16 12:39:48,724 INFO sqlalchemy.engine.base.Engine SELECT sql FROM  (SELECT * FROM sqlite_master UNION ALL   SELECT * FROM sqlite_temp_master) WHERE name = 'room_stats' AND type = 'table'\n",
      "2019-04-16 12:39:48,724 INFO sqlalchemy.engine.base.Engine ()\n",
      "2019-04-16 12:39:48,724 INFO sqlalchemy.engine.base.Engine PRAGMA foreign_key_list(\"room_stats\")\n",
      "2019-04-16 12:39:48,724 INFO sqlalchemy.engine.base.Engine ()\n",
      "2019-04-16 12:39:48,725 INFO sqlalchemy.engine.base.Engine SELECT sql FROM  (SELECT * FROM sqlite_master UNION ALL   SELECT * FROM sqlite_temp_master) WHERE name = 'room_stats' AND type = 'table'\n",
      "2019-04-16 12:39:48,726 INFO sqlalchemy.engine.base.Engine ()\n",
      "2019-04-16 12:39:48,728 INFO sqlalchemy.engine.base.Engine PRAGMA index_list(\"room_stats\")\n",
      "2019-04-16 12:39:48,729 INFO sqlalchemy.engine.base.Engine ()\n",
      "2019-04-16 12:39:48,730 INFO sqlalchemy.engine.base.Engine PRAGMA index_info(\"ix_room_stats_index\")\n",
      "2019-04-16 12:39:48,730 INFO sqlalchemy.engine.base.Engine ()\n",
      "2019-04-16 12:39:48,732 INFO sqlalchemy.engine.base.Engine PRAGMA index_list(\"room_stats\")\n",
      "2019-04-16 12:39:48,732 INFO sqlalchemy.engine.base.Engine ()\n",
      "2019-04-16 12:39:48,733 INFO sqlalchemy.engine.base.Engine PRAGMA index_info(\"ix_room_stats_index\")\n",
      "2019-04-16 12:39:48,734 INFO sqlalchemy.engine.base.Engine ()\n",
      "2019-04-16 12:39:48,738 INFO sqlalchemy.engine.base.Engine PRAGMA index_info(\"sqlite_autoindex_room_stats_1\")\n",
      "2019-04-16 12:39:48,739 INFO sqlalchemy.engine.base.Engine ()\n",
      "2019-04-16 12:39:48,748 INFO sqlalchemy.engine.base.Engine SELECT sql FROM  (SELECT * FROM sqlite_master UNION ALL   SELECT * FROM sqlite_temp_master) WHERE name = 'room_stats' AND type = 'table'\n",
      "2019-04-16 12:39:48,749 INFO sqlalchemy.engine.base.Engine ()\n"
     ]
    }
   ],
   "source": [
    "engine = create_engine('sqlite:////Users/epatel/workcode/Room_Statistics/room_stats_db.db', echo=True)\n",
    "conn = engine.connect()\n",
    "\n",
    "\n",
    "Base = automap_base()\n",
    "Base.prepare(engine, reflect=True)\n",
    "session = Session(engine)"
   ]
  },
  {
   "cell_type": "code",
   "execution_count": null,
   "metadata": {},
   "outputs": [],
   "source": [
    "# room_data.to_sql('room_stats', engine,if_exists='append')"
   ]
  },
  {
   "cell_type": "code",
   "execution_count": null,
   "metadata": {},
   "outputs": [],
   "source": []
  }
 ],
 "metadata": {
  "kernelspec": {
   "display_name": "Python 3",
   "language": "python",
   "name": "python3"
  },
  "language_info": {
   "codemirror_mode": {
    "name": "ipython",
    "version": 3
   },
   "file_extension": ".py",
   "mimetype": "text/x-python",
   "name": "python",
   "nbconvert_exporter": "python",
   "pygments_lexer": "ipython3",
   "version": "3.7.0"
  }
 },
 "nbformat": 4,
 "nbformat_minor": 2
}
